{
 "cells": [
  {
   "cell_type": "markdown",
   "metadata": {},
   "source": [
    "# Recommender system project:\n",
    "Code based on a tutorial by Agnes Johannsdottir using MovieLens data set.  \n",
    "Here I use the million song data set from Kaggle.\n",
    "\n",
    "See bottom for SVD.\n",
    "\n",
    "\n"
   ]
  },
  {
   "cell_type": "markdown",
   "metadata": {},
   "source": [
    "# P1: Item Similarity"
   ]
  },
  {
   "cell_type": "code",
   "execution_count": 3,
   "metadata": {
    "collapsed": true
   },
   "outputs": [],
   "source": [
    "import matplotlib.pyplot as plt"
   ]
  },
  {
   "cell_type": "code",
   "execution_count": 4,
   "metadata": {
    "collapsed": true
   },
   "outputs": [],
   "source": [
    "%matplotlib inline"
   ]
  },
  {
   "cell_type": "code",
   "execution_count": 75,
   "metadata": {
    "collapsed": false
   },
   "outputs": [],
   "source": [
    "import numpy as np\n",
    "import pandas as pd\n",
    "from collections import defaultdict\n",
    "from sklearn.metrics.pairwise import pairwise_distances\n",
    "from sklearn.metrics import mean_squared_error\n",
    "from math import sqrt\n",
    "import scipy.sparse as sp\n",
    "from scipy.sparse.linalg import svds\n",
    "from sklearn import cross_validation as cv\n",
    "import random"
   ]
  },
  {
   "cell_type": "code",
   "execution_count": 6,
   "metadata": {
    "collapsed": false
   },
   "outputs": [],
   "source": [
    "def countNonZeroEntries(matrix):\n",
    "    m = np.zeros(matrix.shape[0])\n",
    "    for x in range(0, matrix.shape[0]):\n",
    "        m[x] = len(matrix[x][matrix[x]!=0])\n",
    "    return m"
   ]
  },
  {
   "cell_type": "code",
   "execution_count": 7,
   "metadata": {
    "collapsed": true
   },
   "outputs": [],
   "source": [
    "def normalizeRowsToOne(matrix):\n",
    "    m = np.zeros(matrix.shape[0])\n",
    "    for x in range(0, matrix.shape[0]):\n",
    "        m[x] = len(matrix[x][matrix[x]!=0])\n",
    "    return m"
   ]
  },
  {
   "cell_type": "code",
   "execution_count": 8,
   "metadata": {
    "collapsed": true
   },
   "outputs": [],
   "source": [
    "def replaceNANwithZero(matrix):\n",
    "    m = np.zeros((matrix.shape[0], matrix.shape[1]))\n",
    "    for x in range(0, matrix.shape[0]):\n",
    "        matrix[x] = np.nan_to_num(matrix[x])\n",
    "    return m\n",
    "    "
   ]
  },
  {
   "cell_type": "code",
   "execution_count": 9,
   "metadata": {
    "collapsed": true
   },
   "outputs": [],
   "source": [
    "def normalize1(similarity):\n",
    "    '''sum similarities for each row'''\n",
    "    n = np.array([np.abs(similarity).sum(axis=1)]) \n",
    "    for x in range(0, len(n[0])):\n",
    "        if n[0][x] < 1:\n",
    "            n[0][x] = 1         \n",
    "    return n"
   ]
  },
  {
   "cell_type": "code",
   "execution_count": 10,
   "metadata": {
    "collapsed": true
   },
   "outputs": [],
   "source": [
    "def normalize(pred, countratingsperrow):\n",
    "    '''by count of non-zero ratings per row'''\n",
    "    for row in range(0, pred.shape[0]):\n",
    "        for col in range(0, pred.shape[1]):\n",
    "            if pred[row,col] != 0:\n",
    "                pred[row,col] = pred[row,col]/countratingsperrow[row]\n",
    "    return pred"
   ]
  },
  {
   "cell_type": "code",
   "execution_count": 11,
   "metadata": {
    "collapsed": true
   },
   "outputs": [],
   "source": [
    "def normalize2(pred, normMatrix):\n",
    "    '''by norm sim value to 1; only using cases where dot product is non-zero'''\n",
    "    for row in range(0, pred.shape[0]):\n",
    "        for col in range(0, pred.shape[1]):\n",
    "            if pred[row,col] != 0:\n",
    "                pred[row,col] = pred[row,col]*normMatrix[row,col]\n",
    "    return pred"
   ]
  },
  {
   "cell_type": "code",
   "execution_count": 12,
   "metadata": {
    "collapsed": true
   },
   "outputs": [],
   "source": [
    "def getNormMatrix(similarity, ratings):\n",
    "    l1 = np.zeros((ratings.shape[0], ratings.shape[1]))\n",
    "    for c in range (0, similarity.shape[0]):\n",
    "        for r in range (0, ratings.shape[0]):\n",
    "            new = similarity[c]*ratings[r]\n",
    "            i = np.nonzero(new)\n",
    "            nzero = np.sum(similarity[c][i])\n",
    "            if nzero == 0:\n",
    "                normfactor = 1\n",
    "            else:\n",
    "                normfactor = 1.0/nzero\n",
    "            l1[r,c] = normfactor\n",
    "    return l1\n",
    "        "
   ]
  },
  {
   "cell_type": "code",
   "execution_count": 13,
   "metadata": {
    "collapsed": true
   },
   "outputs": [],
   "source": [
    "def convertToMinOne(m):\n",
    "    for r in range(0, m.shape[0]):\n",
    "        for c in range(0,m.shape[1]):\n",
    "            if m[r][c] < 1:\n",
    "                m[r][c] = 1\n",
    "    return m\n",
    "              "
   ]
  },
  {
   "cell_type": "code",
   "execution_count": 14,
   "metadata": {
    "collapsed": true
   },
   "outputs": [],
   "source": [
    "def transferKnownvalues(p,test):\n",
    "    for r in range(0, test.shape[0]):\n",
    "        for c in range(0,test.shape[1]):\n",
    "            if test[r][c] != 0:\n",
    "                p[r][c] = test[r][c]\n",
    "    return p\n",
    "    "
   ]
  },
  {
   "cell_type": "markdown",
   "metadata": {},
   "source": [
    "Below are 4 different prediction methods, each with a different way to normalize."
   ]
  },
  {
   "cell_type": "code",
   "execution_count": 15,
   "metadata": {
    "collapsed": true
   },
   "outputs": [],
   "source": [
    "#predict(train_data_matrix, user_similarity, type='user')\n",
    "def predict(ratings, similarity, type='user'):\n",
    "    '''orginal predict fuction, normalize by summing all similiarity numbers'''\n",
    "    if type == 'user':\n",
    "        pass\n",
    "    elif type == 'item':\n",
    "        pred = ratings.dot(similarity) / normalize1(similarity)    \n",
    "    return pred"
   ]
  },
  {
   "cell_type": "code",
   "execution_count": 16,
   "metadata": {
    "collapsed": true
   },
   "outputs": [],
   "source": [
    "def predict2(ratings, similarity, type='user'):\n",
    "    '''No normalization'''\n",
    "    if type == 'user':\n",
    "        pass\n",
    "    elif type == 'item':\n",
    "        countratingsperrow = countNonZeroEntries(ratings)\n",
    "        pred = ratings.dot(similarity)  \n",
    "    return pred"
   ]
  },
  {
   "cell_type": "code",
   "execution_count": 17,
   "metadata": {
    "collapsed": true
   },
   "outputs": [],
   "source": [
    "def predict3(ratings, similarity, type='user'):\n",
    "    '''normalized, by count of nonzero ratings'''\n",
    "    if type == 'user':\n",
    "        pass\n",
    "    elif type == 'item':\n",
    "        countratingsperrow = countNonZeroEntries(ratings)\n",
    "        pred = ratings.dot(similarity)  \n",
    "        pred = normalize(pred, countratingsperrow)\n",
    "    return pred"
   ]
  },
  {
   "cell_type": "code",
   "execution_count": 18,
   "metadata": {
    "collapsed": true
   },
   "outputs": [],
   "source": [
    "def predict4(ratings, similarity, type='user'):\n",
    "    '''normalized by sum of similarity values associated with non-zero ratings and normalize to 1'''\n",
    "    if type == 'user':\n",
    "        pass\n",
    "    elif type == 'item':\n",
    "        pred = ratings.dot(similarity) \n",
    "        normMatrix = getNormMatrix(similarity, ratings)\n",
    "        pred = normalize2(pred, normMatrix)\n",
    "    return pred"
   ]
  },
  {
   "cell_type": "code",
   "execution_count": 19,
   "metadata": {
    "collapsed": true
   },
   "outputs": [],
   "source": [
    "def rmse(p, test):\n",
    "    '''this determines the rmse for the predicted values versus the test values.  It only considers \n",
    "    real ratings in the text matrix and ignores -non-ratings- ie zeros'''\n",
    "    errors = []\n",
    "    for r in range(0, test.shape[0]):\n",
    "        for c in range(0,test.shape[1]):\n",
    "            if test[r][c] != 0:\n",
    "                errors.append(float(test[r,c])-float(p[r,c]))\n",
    "    errors1 =  np.asarray(errors)\n",
    "    errors2 = np.mean(errors1*errors1)\n",
    "    return sqrt(errors2)"
   ]
  },
  {
   "cell_type": "markdown",
   "metadata": {},
   "source": [
    "Below I read in the data"
   ]
  },
  {
   "cell_type": "code",
   "execution_count": 20,
   "metadata": {
    "collapsed": true
   },
   "outputs": [],
   "source": [
    "data = []\n",
    "with open(\"/Users/alexandersatz/Documents/Cuny/IS643_recommenderSys/project1/kaggle_visible_evaluation_triplets.txt\", \"r\") as f:\n",
    "    for line in f:\n",
    "        line = line[:-1]\n",
    "        line =line.split('\\t')\n",
    "        data.append(line)"
   ]
  },
  {
   "cell_type": "code",
   "execution_count": 21,
   "metadata": {
    "collapsed": true
   },
   "outputs": [],
   "source": [
    "de_item = defaultdict(int)\n",
    "for row in data:\n",
    "    de_item[row[1]] += 1\n",
    "    "
   ]
  },
  {
   "cell_type": "code",
   "execution_count": 22,
   "metadata": {
    "collapsed": true
   },
   "outputs": [],
   "source": [
    "#Here I'm removing items with few reviews.\n",
    "d_itemGTE5 = {}\n",
    "for key, value in de_item.iteritems():\n",
    "    if value > 50:\n",
    "        d_itemGTE5[key] = 1"
   ]
  },
  {
   "cell_type": "code",
   "execution_count": 23,
   "metadata": {
    "collapsed": false
   },
   "outputs": [
    {
     "name": "stdout",
     "output_type": "stream",
     "text": [
      "4677\n",
      "163206\n"
     ]
    }
   ],
   "source": [
    "print len(d_itemGTE5)\n",
    "print len(de_item)"
   ]
  },
  {
   "cell_type": "code",
   "execution_count": 24,
   "metadata": {
    "collapsed": true
   },
   "outputs": [],
   "source": [
    "shortdata = []\n",
    "for x in data:\n",
    "    if x[1] in d_itemGTE5:\n",
    "        shortdata.append(x)"
   ]
  },
  {
   "cell_type": "code",
   "execution_count": 25,
   "metadata": {
    "collapsed": true
   },
   "outputs": [],
   "source": [
    "de_user = defaultdict(int)\n",
    "for row in shortdata:\n",
    "    de_user[row[0]] += 1\n",
    "    "
   ]
  },
  {
   "cell_type": "code",
   "execution_count": 26,
   "metadata": {
    "collapsed": true
   },
   "outputs": [],
   "source": [
    "#Here I'm removing users with few reviews.\n",
    "d_usersGTE10 = {}\n",
    "for key, value in de_user.iteritems():\n",
    "    if value > 20:\n",
    "        d_usersGTE10[key] = 1"
   ]
  },
  {
   "cell_type": "code",
   "execution_count": 27,
   "metadata": {
    "collapsed": true
   },
   "outputs": [],
   "source": [
    "shortdata2 = []\n",
    "for x in shortdata:\n",
    "    if x[0] in d_usersGTE10:\n",
    "        shortdata2.append(x)"
   ]
  },
  {
   "cell_type": "code",
   "execution_count": 28,
   "metadata": {
    "collapsed": true
   },
   "outputs": [],
   "source": [
    "shortdata = shortdata2"
   ]
  },
  {
   "cell_type": "code",
   "execution_count": 29,
   "metadata": {
    "collapsed": false
   },
   "outputs": [
    {
     "name": "stdout",
     "output_type": "stream",
     "text": [
      "1450933\n",
      "42443\n"
     ]
    }
   ],
   "source": [
    "## So I've gone from 1.45 million rows of data to ~42,0000\n",
    "print(len(data))\n",
    "print(len(shortdata))"
   ]
  },
  {
   "cell_type": "code",
   "execution_count": 30,
   "metadata": {
    "collapsed": false
   },
   "outputs": [],
   "source": [
    "#data from https://www.kaggle.com/c/msdchallenge/data\n",
    "#the number of times a user listens to a song is tracked\n",
    "\n",
    "#here 'rating' is number of listens to the song.\n",
    "header = ['user_id', 'item_id', 'rating']\n",
    "df = pd.DataFrame(shortdata, columns=header)"
   ]
  },
  {
   "cell_type": "code",
   "execution_count": 31,
   "metadata": {
    "collapsed": false
   },
   "outputs": [],
   "source": [
    "# max listen is now 10, which represents 'liking' a song\n",
    "for index, row in df.iterrows():\n",
    "    if int(row['rating']) > 10:\n",
    "        row['rating'] = 10"
   ]
  },
  {
   "cell_type": "code",
   "execution_count": 32,
   "metadata": {
    "collapsed": true
   },
   "outputs": [],
   "source": [
    "#I need to convert each user_id to an int, and each item_id to an int.\n",
    "arrayusers = df.user_id.unique()\n",
    "arrayitems = df.item_id.unique()\n",
    "d_users, d_items = {}, {}\n",
    "c = 0\n",
    "for x in arrayusers:\n",
    "    c +=1\n",
    "    d_users[x] = c \n",
    "c = 0\n",
    "for x in arrayitems:\n",
    "    c +=1\n",
    "    d_items[x] = c \n"
   ]
  },
  {
   "cell_type": "code",
   "execution_count": 33,
   "metadata": {
    "collapsed": false
   },
   "outputs": [],
   "source": [
    "for index, row in df.iterrows():\n",
    "    df.set_value(index, 'user_id', d_users[row['user_id']])\n",
    "    df.set_value(index, 'item_id', d_items[row['item_id']])"
   ]
  },
  {
   "cell_type": "code",
   "execution_count": 34,
   "metadata": {
    "collapsed": false
   },
   "outputs": [
    {
     "data": {
      "text/html": [
       "<div>\n",
       "<table border=\"1\" class=\"dataframe\">\n",
       "  <thead>\n",
       "    <tr style=\"text-align: right;\">\n",
       "      <th></th>\n",
       "      <th>user_id</th>\n",
       "      <th>item_id</th>\n",
       "      <th>rating</th>\n",
       "    </tr>\n",
       "  </thead>\n",
       "  <tbody>\n",
       "    <tr>\n",
       "      <th>0</th>\n",
       "      <td>1</td>\n",
       "      <td>1</td>\n",
       "      <td>5</td>\n",
       "    </tr>\n",
       "    <tr>\n",
       "      <th>1</th>\n",
       "      <td>1</td>\n",
       "      <td>2</td>\n",
       "      <td>1</td>\n",
       "    </tr>\n",
       "    <tr>\n",
       "      <th>2</th>\n",
       "      <td>1</td>\n",
       "      <td>3</td>\n",
       "      <td>1</td>\n",
       "    </tr>\n",
       "    <tr>\n",
       "      <th>3</th>\n",
       "      <td>1</td>\n",
       "      <td>4</td>\n",
       "      <td>1</td>\n",
       "    </tr>\n",
       "    <tr>\n",
       "      <th>4</th>\n",
       "      <td>1</td>\n",
       "      <td>5</td>\n",
       "      <td>1</td>\n",
       "    </tr>\n",
       "  </tbody>\n",
       "</table>\n",
       "</div>"
      ],
      "text/plain": [
       "  user_id item_id rating\n",
       "0       1       1      5\n",
       "1       1       2      1\n",
       "2       1       3      1\n",
       "3       1       4      1\n",
       "4       1       5      1"
      ]
     },
     "execution_count": 34,
     "metadata": {},
     "output_type": "execute_result"
    }
   ],
   "source": [
    "df.head(5)"
   ]
  },
  {
   "cell_type": "code",
   "execution_count": 35,
   "metadata": {
    "collapsed": false
   },
   "outputs": [
    {
     "name": "stdout",
     "output_type": "stream",
     "text": [
      "Number of users = 1750 | Number of items = 4349\n"
     ]
    }
   ],
   "source": [
    "n_users = df.user_id.unique().shape[0]\n",
    "n_items = df.item_id.unique().shape[0]\n",
    "print 'Number of users = ' + str(n_users) + ' | Number of items = ' + str(n_items)  "
   ]
  },
  {
   "cell_type": "code",
   "execution_count": 36,
   "metadata": {
    "collapsed": true
   },
   "outputs": [],
   "source": []
  },
  {
   "cell_type": "markdown",
   "metadata": {},
   "source": [
    "Note that the above data split needs to give equal numbers of users in the train and test set!  Sometimes this doesn't happen and the above split needs to be repeated until it does."
   ]
  },
  {
   "cell_type": "code",
   "execution_count": 76,
   "metadata": {
    "collapsed": false
   },
   "outputs": [
    {
     "name": "stdout",
     "output_type": "stream",
     "text": [
      "1750\n",
      "1750\n"
     ]
    }
   ],
   "source": [
    "b = True\n",
    "count = 0\n",
    "\n",
    "while b and count <100:\n",
    "    train_data, test_data = cv.train_test_split(df, test_size=0.26)\n",
    "    random.seed(count)\n",
    "    count += 1\n",
    "    #Create two user-item matrices, one for training and another for testing\n",
    "    ## row number = user_id-1, column number is item_id-1, and value is the rating.\n",
    "    ## so each row has all ratings for every movie for that user (else a zero)\n",
    "    try:\n",
    "        n_users = train_data.user_id.unique().shape[0]\n",
    "        train_data_matrix = np.zeros((n_users, n_items))\n",
    "        for line in train_data.itertuples():\n",
    "            train_data_matrix[line[1]-1, line[2]-1] = line[3]  \n",
    "\n",
    "\n",
    "\n",
    "        n_users = test_data.user_id.unique().shape[0]\n",
    "        test_data_matrix = np.zeros((n_users, n_items))\n",
    "        for line in test_data.itertuples():\n",
    "            test_data_matrix[line[1]-1, line[2]-1] = line[3]\n",
    "        b = False\n",
    "    except IndexError:\n",
    "        b = True\n",
    "    \n",
    "print n_users\n",
    "    \n",
    "print n_users  ## make sure both matrices have same # users"
   ]
  },
  {
   "cell_type": "code",
   "execution_count": 77,
   "metadata": {
    "collapsed": false
   },
   "outputs": [],
   "source": [
    "item_similarity = pairwise_distances(train_data_matrix.T, metric='cosine')"
   ]
  },
  {
   "cell_type": "code",
   "execution_count": 78,
   "metadata": {
    "collapsed": false
   },
   "outputs": [],
   "source": [
    "## make simliarity matrix have diagonal of 1's not zeros\n",
    "for row in range(0, (item_similarity.shape[0])):\n",
    "    for col in range(0, (item_similarity.shape[1])):\n",
    "        item_similarity[row,col] = 1-item_similarity[row,col]"
   ]
  },
  {
   "cell_type": "code",
   "execution_count": 66,
   "metadata": {
    "collapsed": false
   },
   "outputs": [],
   "source": [
    "item_prediction1 = predict(test_data_matrix, item_similarity, type='item')\n",
    "item_prediction2 = predict2(test_data_matrix, item_similarity, type='item')\n",
    "item_prediction3 = predict3(test_data_matrix, item_similarity, type='item')\n",
    "item_prediction4 = predict4(test_data_matrix, item_similarity, type='item')"
   ]
  },
  {
   "cell_type": "code",
   "execution_count": 43,
   "metadata": {
    "collapsed": false
   },
   "outputs": [
    {
     "name": "stdout",
     "output_type": "stream",
     "text": [
      "Item-based CF RMSE: 3.71953908924\n",
      "Item-based CF RMSE: 1.01252148931\n",
      "Item-based CF RMSE: 3.34999622936\n",
      "Item-based CF RMSE: 0.694641986948\n"
     ]
    }
   ],
   "source": [
    "#Normalize sum of similarities for each row\n",
    "print 'Item-based CF RMSE: ' + str(rmse(item_prediction1, test_data_matrix))\n",
    "#No normalization\n",
    "print 'Item-based CF RMSE: ' + str(rmse(item_prediction2, test_data_matrix))\n",
    "#Count of actual ratings in a column, train_data_matrix\n",
    "print 'Item-based CF RMSE: ' + str(rmse(item_prediction3, test_data_matrix))\n",
    "#Normalize by summing the similarities and normalizing to 1, but only for those corresponding to a rating \n",
    "#in the train_data_matrix (rows are items, columns are users)\n",
    "print 'Item-based CF RMSE: ' + str(rmse(item_prediction4, test_data_matrix))"
   ]
  },
  {
   "cell_type": "code",
   "execution_count": 44,
   "metadata": {
    "collapsed": false
   },
   "outputs": [
    {
     "name": "stdout",
     "output_type": "stream",
     "text": [
      "The sparsity level is 99.4%\n"
     ]
    }
   ],
   "source": [
    "sparsity=round(1.0-len(df)/float(n_users*n_items),3)\n",
    "print 'The sparsity level is ' +  str(sparsity*100) + '%'"
   ]
  },
  {
   "cell_type": "markdown",
   "metadata": {},
   "source": [
    "Below we look at the RMSE if we just assumed the 'average' rating for each item"
   ]
  },
  {
   "cell_type": "code",
   "execution_count": 45,
   "metadata": {
    "collapsed": false
   },
   "outputs": [
    {
     "name": "stdout",
     "output_type": "stream",
     "text": [
      "2.88501268576\n"
     ]
    }
   ],
   "source": [
    "## for we determine the average of all ratings in the matrix, ignoring zeros since we consider them to be 'non-ratings'\n",
    "s = np.sum(test_data_matrix)\n",
    "c = len(np.nonzero(test_data_matrix)[0])\n",
    "m = s/float(c)\n",
    "## the average rating in the matrix\n",
    "print m"
   ]
  },
  {
   "cell_type": "code",
   "execution_count": 46,
   "metadata": {
    "collapsed": false
   },
   "outputs": [
    {
     "name": "stdout",
     "output_type": "stream",
     "text": [
      "Item-based CF RMSE: 2.79515517491\n"
     ]
    }
   ],
   "source": [
    "#create a matrix of the average\n",
    "matrix_avg = np.zeros((test_data_matrix.shape[0], test_data_matrix.shape[1]))\n",
    "for row in range(0, matrix_avg.shape[0]):\n",
    "        for col in range(0, matrix_avg.shape[1]):\n",
    "            matrix_avg[row][col] = m\n",
    "print 'Item-based CF RMSE: ' + str(rmse(matrix_avg, test_data_matrix))\n",
    "## the RMSE if all predictions were the average in the matrix"
   ]
  },
  {
   "cell_type": "code",
   "execution_count": 47,
   "metadata": {
    "collapsed": false
   },
   "outputs": [],
   "source": [
    "i = np.nonzero(test_data_matrix)\n",
    "t = test_data_matrix[i].flatten()\n",
    "p = item_prediction4[i].flatten()\n"
   ]
  },
  {
   "cell_type": "markdown",
   "metadata": {},
   "source": [
    "The Plot below shows that the predicted values track well with the 'test' values.  There might be a bit of an issue with some data points showing up at the baseline though; I think this may be due to matrix sparsity, cases when there is no overlap between ratings and similarity values."
   ]
  },
  {
   "cell_type": "code",
   "execution_count": 49,
   "metadata": {
    "collapsed": false
   },
   "outputs": [
    {
     "data": {
      "image/png": "[encoded data removed]",
      "text/plain": [
       "<matplotlib.figure.Figure at 0x161bf7cd0>"
      ]
     },
     "metadata": {},
     "output_type": "display_data"
    }
   ],
   "source": [
    "plt.scatter(t, p)\n",
    "plt.xlabel('actual values')\n",
    "plt.ylabel('predicted values')\n",
    "plt.show()"
   ]
  },
  {
   "cell_type": "markdown",
   "metadata": {},
   "source": [
    "# P2:  Below I try to set up on a normalized User-based CF."
   ]
  },
  {
   "cell_type": "code",
   "execution_count": 79,
   "metadata": {
    "collapsed": true
   },
   "outputs": [],
   "source": [
    "user_similarity = pairwise_distances(train_data_matrix, metric='cosine')"
   ]
  },
  {
   "cell_type": "code",
   "execution_count": 80,
   "metadata": {
    "collapsed": true
   },
   "outputs": [],
   "source": [
    "## make simliarity matrix have diagonal of 1's not zeros\n",
    "for row in range(0, (user_similarity.shape[0])):\n",
    "    for col in range(0, (user_similarity.shape[1])):\n",
    "        user_similarity[row,col] = 1-user_similarity[row,col]"
   ]
  },
  {
   "cell_type": "code",
   "execution_count": 101,
   "metadata": {
    "collapsed": false
   },
   "outputs": [],
   "source": [
    "#predict(train_data_matrix, user_similarity, type='user')\n",
    "def predict_UB1(ratings, similarity, type='user'):\n",
    "    '''orginal predict fuction for the UB CF as taken from the online source.  As you can see, it takes a mean user\n",
    "    rating, but does not exclude zero in the average.  And it normalizes with the sum of similarities. '''\n",
    "    if type == 'user':\n",
    "        mean_user_rating = ratings.mean(axis=1)  # array with mean for each user\n",
    "        ratings_diff = (ratings - mean_user_rating[:, np.newaxis]) \n",
    "        pred = mean_user_rating[:, np.newaxis] + similarity.dot(ratings_diff) / normalize1(similarity).T\n",
    "    elif type == 'item':\n",
    "        pass   \n",
    "    return pred"
   ]
  },
  {
   "cell_type": "code",
   "execution_count": 82,
   "metadata": {
    "collapsed": true
   },
   "outputs": [],
   "source": [
    "def getMeanUserRating(ratings):\n",
    "    l1 = []\n",
    "    for x in range(0, ratings.shape[0]):\n",
    "        l1.append(np.mean(ratings[x][np.nonzero(ratings[x])]))\n",
    "    return np.asarray(l1)\n",
    "        "
   ]
  },
  {
   "cell_type": "code",
   "execution_count": 83,
   "metadata": {
    "collapsed": false
   },
   "outputs": [],
   "source": [
    "def getNormMatrixUB(similarity, ratings):\n",
    "    l1 = np.zeros((ratings.shape[0], ratings.shape[1]))\n",
    "    for c in range (0, ratings.shape[0]):\n",
    "        for r in range (0, similarity.shape[0]):\n",
    "            new = ratings[:,c]*similarity[r]\n",
    "            i = np.nonzero(new)\n",
    "            nzero = np.sum(similarity[c][i])\n",
    "            if nzero == 0:\n",
    "                normfactor = 1\n",
    "            else:\n",
    "                normfactor = 1.0/nzero\n",
    "            l1[r,c] = normfactor\n",
    "    return l1\n",
    "        "
   ]
  },
  {
   "cell_type": "code",
   "execution_count": 84,
   "metadata": {
    "collapsed": false
   },
   "outputs": [],
   "source": [
    "user_prediction1 = predict_UB1(test_data_matrix, user_similarity, type='user')"
   ]
  },
  {
   "cell_type": "markdown",
   "metadata": {},
   "source": [
    "As you can see, this user based collaborative filtering still needs some help.  Mainly I think it does the normalization incorrectly, and needs a better method for dealing with some users ranking all high or low."
   ]
  },
  {
   "cell_type": "code",
   "execution_count": 85,
   "metadata": {
    "collapsed": false
   },
   "outputs": [
    {
     "name": "stdout",
     "output_type": "stream",
     "text": [
      "User-based CF RMSE: 3.73947934863\n"
     ]
    }
   ],
   "source": [
    "print 'User-based CF RMSE: ' + str(rmse(user_prediction1, test_data_matrix))"
   ]
  },
  {
   "cell_type": "markdown",
   "metadata": {},
   "source": [
    "# Below I try SVD with varying types of imputation.  All in all, SVD is not particularly beneficial.  Intuitively, a content based filter might be better suited to dimension reduction."
   ]
  },
  {
   "cell_type": "markdown",
   "metadata": {},
   "source": [
    "The MSE is pretty bad (see below).  I think this is because of a lack of imputing values, which for this svd case may be important.  What's interesting about this technique, is if you use a very large value of k, then all the predicted values would be zero (hence the need to impute...)."
   ]
  },
  {
   "cell_type": "code",
   "execution_count": 103,
   "metadata": {
    "collapsed": false
   },
   "outputs": [
    {
     "name": "stdout",
     "output_type": "stream",
     "text": [
      "User-based CF MSE: 3.87210901377\n"
     ]
    }
   ],
   "source": [
    "import scipy.sparse as sp\n",
    "from scipy.sparse.linalg import svds\n",
    "\n",
    "#get SVD components from train matrix. Choose k.\n",
    "u, s, vt = svds(train_data_matrix, k = 10)  # k is deciding the number of latent variables to take.  \n",
    "s_diag_matrix=np.diag(s)  # generates the diagonal matrix; s above is a 1-D array.\n",
    "X_pred = np.dot(np.dot(u, s_diag_matrix), vt)  #because k =10, X_pred != train_data_matrix\n",
    "print 'User-based CF MSE: ' + str(rmse(X_pred, test_data_matrix))"
   ]
  },
  {
   "cell_type": "markdown",
   "metadata": {},
   "source": [
    "### So, below I impute with the mean of the entire training set.  The result is much better, with a MSE now of 2.8.  Of course, there might be better ways to impute.  "
   ]
  },
  {
   "cell_type": "code",
   "execution_count": 104,
   "metadata": {
    "collapsed": false
   },
   "outputs": [],
   "source": [
    "def getMean(m):\n",
    "    s = np.sum(m)\n",
    "    c = len(np.nonzero(m)[0])\n",
    "    a = s/float(c)\n",
    "    return a\n",
    "    "
   ]
  },
  {
   "cell_type": "code",
   "execution_count": 105,
   "metadata": {
    "collapsed": true
   },
   "outputs": [],
   "source": [
    "def imputeWithMean(m, mean):\n",
    "    m2 = np.zeros((m.shape[0], m.shape[1]))\n",
    "    for r in range(0, m.shape[0]):\n",
    "        for c in range(0,m.shape[1]):\n",
    "            m2[r][c] = m[r][c]\n",
    "            if m[r][c] == 0:\n",
    "                m2[r][c] = mean\n",
    "    return m2\n",
    "                \n",
    "    "
   ]
  },
  {
   "cell_type": "code",
   "execution_count": 106,
   "metadata": {
    "collapsed": false
   },
   "outputs": [],
   "source": [
    "mean = getMean(train_data_matrix)"
   ]
  },
  {
   "cell_type": "code",
   "execution_count": 107,
   "metadata": {
    "collapsed": false
   },
   "outputs": [],
   "source": [
    "imputed_train = imputeWithMean(train_data_matrix, mean)"
   ]
  },
  {
   "cell_type": "code",
   "execution_count": 108,
   "metadata": {
    "collapsed": false
   },
   "outputs": [
    {
     "name": "stdout",
     "output_type": "stream",
     "text": [
      "User-based CF MSE: 2.7107006987\n"
     ]
    }
   ],
   "source": [
    "u, s, vt = svds(imputed_train, k = 10)  # k is deciding the number of latent variables to take.  \n",
    "s_diag_matrix=np.diag(s)\n",
    "X_pred = np.dot(np.dot(u, s_diag_matrix), vt)  #because k =10, X_pred != train_data_matrix\n",
    "print 'User-based CF MSE: ' + str(rmse(X_pred, test_data_matrix))"
   ]
  },
  {
   "cell_type": "markdown",
   "metadata": {},
   "source": [
    "### Below I impute with the average rating of each item (and not just with the average of the whole matrix).  The avg item imputing seems to do a really bad job.  This makes some sense if you assume that songs are largely one of personal taste (ie there is no such thing as a highly rated song across all users)."
   ]
  },
  {
   "cell_type": "code",
   "execution_count": 125,
   "metadata": {
    "collapsed": true
   },
   "outputs": [],
   "source": [
    "# find average for each item\n",
    "def fAvgEachItem(m):\n",
    "    l1 = []\n",
    "    t = np.transpose(m)\n",
    "    for r in range(0, t.shape[0]):\n",
    "        i = np.nonzero(t[r])\n",
    "        v = np.mean(t[r][i])\n",
    "        if v == 0:\n",
    "            v = 1\n",
    "        l1.append(v)\n",
    "    return l1\n",
    "    "
   ]
  },
  {
   "cell_type": "code",
   "execution_count": 127,
   "metadata": {
    "collapsed": true
   },
   "outputs": [],
   "source": [
    "def imputeItemAvg(m, meanslist):\n",
    "    m2 = np.zeros((m.shape[0], m.shape[1]))\n",
    "    for r in range(0, m.shape[0]):\n",
    "        for c in range(0,m.shape[1]):\n",
    "            m2[r][c] = m[r][c]\n",
    "            if m[r][c] == 0:\n",
    "                m2[r][c] = meanslist[c]\n",
    "    return m2\n",
    "    "
   ]
  },
  {
   "cell_type": "code",
   "execution_count": 128,
   "metadata": {
    "collapsed": false
   },
   "outputs": [],
   "source": [
    "meanslist = fAvgEachItem(train_data_matrix)"
   ]
  },
  {
   "cell_type": "code",
   "execution_count": 129,
   "metadata": {
    "collapsed": true
   },
   "outputs": [],
   "source": [
    "imputed_train2 = imputeItemAvg(train_data_matrix, meanslist)"
   ]
  },
  {
   "cell_type": "code",
   "execution_count": 130,
   "metadata": {
    "collapsed": false
   },
   "outputs": [
    {
     "name": "stdout",
     "output_type": "stream",
     "text": [
      "User-based CF MSE: 3.95268087735\n"
     ]
    }
   ],
   "source": [
    "u, s, vt = svds(imputed_train2, k = 10)  # k is deciding the number of latent variables to take.  \n",
    "s_diag_matrix=np.diag(s)\n",
    "X_pred = np.dot(np.dot(u, s_diag_matrix), vt)  #because k =10, X_pred != train_data_matrix\n",
    "print 'User-based CF MSE: ' + str(rmse(X_pred, test_data_matrix))"
   ]
  },
  {
   "cell_type": "markdown",
   "metadata": {},
   "source": [
    "### Below I instead impute with the user avg rating and am able to see an improvment over the global avg by the MSE dropping from 2.8 to 2.4.  Also, increasing the number of latent variables from 10 to 20 did not improve matters.  I think its very telling that setting the number of latent variable to 1 still gives a MSE of 2.4."
   ]
  },
  {
   "cell_type": "code",
   "execution_count": 145,
   "metadata": {
    "collapsed": false
   },
   "outputs": [],
   "source": [
    "# find average for each item\n",
    "def fAvgEachUser(m):\n",
    "    l1 = []\n",
    "    for r in range(0, m.shape[0]):\n",
    "        i = np.nonzero(m[r])\n",
    "        v = np.mean(m[r][i])\n",
    "        if v == 0:\n",
    "            v = 1\n",
    "        l1.append(v)\n",
    "    return l1\n",
    "    "
   ]
  },
  {
   "cell_type": "code",
   "execution_count": 146,
   "metadata": {
    "collapsed": true
   },
   "outputs": [],
   "source": [
    "def imputeUsrAvg(m, meanslist):\n",
    "    m2 = np.zeros((m.shape[0], m.shape[1]))\n",
    "    for r in range(0, m.shape[0]):\n",
    "        for c in range(0,m.shape[1]):\n",
    "            m2[r][c] = m[r][c]\n",
    "            if m[r][c] == 0:\n",
    "                m2[r][c] = meanslist[r]\n",
    "    return m2"
   ]
  },
  {
   "cell_type": "code",
   "execution_count": 147,
   "metadata": {
    "collapsed": false
   },
   "outputs": [],
   "source": [
    "meanslist = fAvgEachUser(train_data_matrix)\n",
    "imputed_train3 = imputeUsrAvg(train_data_matrix, meanslist)"
   ]
  },
  {
   "cell_type": "code",
   "execution_count": 149,
   "metadata": {
    "collapsed": false
   },
   "outputs": [
    {
     "name": "stdout",
     "output_type": "stream",
     "text": [
      "User-based CF MSE: 2.43327475325\n"
     ]
    }
   ],
   "source": [
    "u, s, vt = svds(imputed_train3, k = 10)  # k is deciding the number of latent variables to take.  \n",
    "s_diag_matrix=np.diag(s)\n",
    "X_pred = np.dot(np.dot(u, s_diag_matrix), vt)  #because k =10, X_pred != train_data_matrix\n",
    "print 'User-based CF MSE: ' + str(rmse(X_pred, test_data_matrix))"
   ]
  },
  {
   "cell_type": "code",
   "execution_count": 160,
   "metadata": {
    "collapsed": false
   },
   "outputs": [
    {
     "name": "stdout",
     "output_type": "stream",
     "text": [
      "User-based CF MSE: 2.43509374162\n"
     ]
    }
   ],
   "source": [
    "u, s, vt = svds(imputed_train3, k = 20)  # k is deciding the number of latent variables to take.  \n",
    "s_diag_matrix=np.diag(s)\n",
    "X_pred = np.dot(np.dot(u, s_diag_matrix), vt)  #because k =10, X_pred != train_data_matrix\n",
    "print 'User-based CF MSE: ' + str(rmse(X_pred, test_data_matrix))"
   ]
  },
  {
   "cell_type": "code",
   "execution_count": 158,
   "metadata": {
    "collapsed": false
   },
   "outputs": [
    {
     "name": "stdout",
     "output_type": "stream",
     "text": [
      "User-based CF MSE: 2.43808793925\n"
     ]
    }
   ],
   "source": [
    "u, s, vt = svds(X_pred, k = 1)  # k is deciding the number of latent variables to take.  \n",
    "s_diag_matrix=np.diag(s)\n",
    "X_pred = np.dot(np.dot(u, s_diag_matrix), vt)  #because k =10, X_pred != train_data_matrix\n",
    "print 'User-based CF MSE: ' + str(rmse(X_pred, test_data_matrix))"
   ]
  },
  {
   "cell_type": "markdown",
   "metadata": {},
   "source": [
    "## As the SVD doesn't provide very good results, I thought I'd try alternating least squares.\n",
    "\n",
    "The link to the blog which covered this is below.  It was a very good blog on the topic, I thought, and easy to use with my exisiting data set.\n",
    "\n",
    "The key to ALS is that its basically an imputation method.  You can impute with the median or avg, but you can also impute by OLS using the existing values.  For imputation this is considered more advanced, but also more complex (and bad) in many cases.  For our situation here, perhaps its better.  Basically, the imputed values ARE the answers you're looking for.\n",
    "\n",
    "https://bugra.github.io/work/notes/2014-04-19/alternating-least-squares-method-for-collaborative-filtering/"
   ]
  },
  {
   "cell_type": "code",
   "execution_count": 161,
   "metadata": {
    "collapsed": true
   },
   "outputs": [],
   "source": [
    "W = train_data_matrix>0.5\n",
    "W[W == True] = 1\n",
    "W[W == False] = 0\n",
    "# To be consistent with our Q matrix\n",
    "W = W.astype(np.float64, copy=False)"
   ]
  },
  {
   "cell_type": "code",
   "execution_count": 179,
   "metadata": {
    "collapsed": false
   },
   "outputs": [],
   "source": [
    "Q = train_data_matrix\n",
    "lambda_ = 0.1\n",
    "n_factors = 100\n",
    "m, n = Q.shape\n",
    "n_iterations = 15"
   ]
  },
  {
   "cell_type": "code",
   "execution_count": 165,
   "metadata": {
    "collapsed": true
   },
   "outputs": [],
   "source": [
    "X = 5 * np.random.rand(m, n_factors) \n",
    "Y = 5 * np.random.rand(n_factors, n)"
   ]
  },
  {
   "cell_type": "code",
   "execution_count": 166,
   "metadata": {
    "collapsed": true
   },
   "outputs": [],
   "source": [
    "def get_error(Q, X, Y, W):\n",
    "    return np.sum((W * (Q - np.dot(X, Y)))**2)"
   ]
  },
  {
   "cell_type": "code",
   "execution_count": 167,
   "metadata": {
    "collapsed": false
   },
   "outputs": [
    {
     "name": "stdout",
     "output_type": "stream",
     "text": [
      "0th iteration is completed\n",
      "Error of rated movies: 230178.194643\n"
     ]
    }
   ],
   "source": [
    "errors = []\n",
    "for ii in range(n_iterations):\n",
    "    X = np.linalg.solve(np.dot(Y, Y.T) + lambda_ * np.eye(n_factors), \n",
    "                        np.dot(Y, Q.T)).T\n",
    "    Y = np.linalg.solve(np.dot(X.T, X) + lambda_ * np.eye(n_factors),\n",
    "                        np.dot(X.T, Q))\n",
    "    if ii % 100 == 0:\n",
    "        print('{}th iteration is completed'.format(ii))\n",
    "    errors.append(get_error(Q, X, Y, W))\n",
    "Q_hat = np.dot(X, Y)\n",
    "print('Error of rated movies: {}'.format(get_error(Q, X, Y, W)))"
   ]
  },
  {
   "cell_type": "code",
   "execution_count": 178,
   "metadata": {
    "collapsed": false
   },
   "outputs": [
    {
     "data": {
      "image/png": "[encoded data removed]",
      "text/plain": [
       "<matplotlib.figure.Figure at 0x1900711d0>"
      ]
     },
     "metadata": {},
     "output_type": "display_data"
    }
   ],
   "source": [
    "# as you can see, after the 5th iteration, nothing gets better.  This is your run of the mill imputing as I did above; \n",
    "# similiar to imputing a user average.\n",
    "plt.plot(errors);"
   ]
  },
  {
   "cell_type": "code",
   "execution_count": 180,
   "metadata": {
    "collapsed": false
   },
   "outputs": [
    {
     "name": "stdout",
     "output_type": "stream",
     "text": [
      "0th iteration is completed\n",
      "1th iteration is completed\n",
      "2th iteration is completed\n",
      "3th iteration is completed\n",
      "4th iteration is completed\n",
      "5th iteration is completed\n",
      "6th iteration is completed\n",
      "7th iteration is completed\n",
      "8th iteration is completed\n",
      "9th iteration is completed\n",
      "10th iteration is completed\n",
      "11th iteration is completed\n",
      "12th iteration is completed\n",
      "13th iteration is completed\n",
      "14th iteration is completed\n"
     ]
    }
   ],
   "source": [
    "weighted_errors = []\n",
    "for ii in range(n_iterations):\n",
    "    for u, Wu in enumerate(W):\n",
    "        X[u] = np.linalg.solve(np.dot(Y, np.dot(np.diag(Wu), Y.T)) + lambda_ * np.eye(n_factors),\n",
    "                               np.dot(Y, np.dot(np.diag(Wu), Q[u].T))).T\n",
    "    for i, Wi in enumerate(W.T):\n",
    "        Y[:,i] = np.linalg.solve(np.dot(X.T, np.dot(np.diag(Wi), X)) + lambda_ * np.eye(n_factors),\n",
    "                                 np.dot(X.T, np.dot(np.diag(Wi), Q[:, i])))\n",
    "    weighted_errors.append(get_error(Q, X, Y, W))\n",
    "    print('{}th iteration is completed'.format(ii))\n",
    "weighted_Q_hat = np.dot(X,Y)\n",
    "#print('Error of rated movies: {}'.format(get_error(Q, X, Y, W)))"
   ]
  },
  {
   "cell_type": "code",
   "execution_count": 181,
   "metadata": {
    "collapsed": false
   },
   "outputs": [
    {
     "data": {
      "image/png": "[encoded data removed]",
      "text/plain": [
       "<matplotlib.figure.Figure at 0x19022e810>"
      ]
     },
     "metadata": {},
     "output_type": "display_data"
    }
   ],
   "source": [
    "#below is the iterative imputing based on OLS, with each iteration the MSE gets better.\n",
    "plt.plot(weighted_errors);\n",
    "plt.xlabel('Iteration Number');\n",
    "plt.ylabel('Mean Squared Error');"
   ]
  },
  {
   "cell_type": "code",
   "execution_count": 2,
   "metadata": {
    "collapsed": false
   },
   "outputs": [
    {
     "data": {
      "text/plain": [
       "3.7416573867739413"
      ]
     },
     "execution_count": 2,
     "metadata": {},
     "output_type": "execute_result"
    }
   ],
   "source": [
    "# the RMSE is ~ 3.7.\n",
    "14**.5"
   ]
  },
  {
   "cell_type": "markdown",
   "metadata": {},
   "source": [
    "# P4: Below I try to optimze the normalized User-based CF.\n",
    "\n",
    "above in Part 2, I set up at User based CF, and it had a **RMSE of 3.7**, which is quite bad.  Note that the SVD and alternating least squares techniques were little better.\n",
    "\n",
    "\n",
    "The function I used in P2 is below.  In it I take a ratings matrix of 1750 users (rows) and 4349 songs (columns), and a similiarty matrix of users which is 1750x1750:\n",
    "\n",
    "#predict(train_data_matrix, user_similarity, type='user')\n",
    "def predict_UB1(ratings, similarity, type='user'):\n",
    "    '''orginal predict fuction for the UB CF as taken from the online source.  As you can see, it takes a mean user\n",
    "    rating, but does not exclude zero in the average.  And it normalizes with the sum of similarities. '''\n",
    "    if type == 'user':\n",
    "        mean_user_rating = ratings.mean(axis=1)  # array with mean for each user\n",
    "        ratings_diff = (ratings - mean_user_rating[:, np.newaxis]) \n",
    "        pred = mean_user_rating[:, np.newaxis] + similarity.dot(ratings_diff) / normalize1(similarity).T\n",
    "    elif type == 'item':\n",
    "        pass   \n",
    "    return pred\n",
    "    \n",
    "### in the end.  I've generated a method for normalizing which gives a RMSE of 1.0.  This normalization, takes into account the sparsity of the matrix.  Further, I've developed a method for accounting for user bias, such that user ratings are normalized prior to prediction, and then 'non-normalized' again; this method gives a RMSE of 0.8 !!\n",
    "\n",
    "A draw back of this technique, is that it is computationally expensive and slow as dirt."
   ]
  },
  {
   "cell_type": "markdown",
   "metadata": {},
   "source": [
    "I generate a mean user rating, which is the average of each row (user) in the ratings matrix.  Note that this average includes zeros!  So this is one issue.  I would rather get the average of the nonzero values.  I starting looking into this in P2, but wasn't able to finish.  Below, I have a working function for getting the average rating (not including zeros) for each user."
   ]
  },
  {
   "cell_type": "code",
   "execution_count": 90,
   "metadata": {
    "collapsed": false
   },
   "outputs": [
    {
     "data": {
      "text/plain": [
       "0.0096573925040239136"
      ]
     },
     "execution_count": 90,
     "metadata": {},
     "output_type": "execute_result"
    }
   ],
   "source": [
    "def getMeanUserRating(ratings):\n",
    "    l1 = []\n",
    "    for x in range(0, ratings.shape[0]):\n",
    "        l1.append(np.mean(ratings[x][np.nonzero(ratings[x])]))\n",
    "    return np.asarray(l1)"
   ]
  },
  {
   "cell_type": "code",
   "execution_count": 102,
   "metadata": {
    "collapsed": true
   },
   "outputs": [],
   "source": [
    "def predict_UB2(ratings, similarity, type='user'):\n",
    "    '''this has a mean user rating that exludes zeros.  It normalizes by summing the similiarities for each user. '''\n",
    "    if type == 'user':\n",
    "        mean_user_rating = getMeanUserRating(ratings)  # array with mean for each user\n",
    "        ratings_diff = (ratings - mean_user_rating[:, np.newaxis]) \n",
    "        pred = mean_user_rating[:, np.newaxis] + similarity.dot(ratings_diff) / normalize1(similarity).T\n",
    "    elif type == 'item':\n",
    "        pass   \n",
    "    return pred"
   ]
  },
  {
   "cell_type": "code",
   "execution_count": 105,
   "metadata": {
    "collapsed": false
   },
   "outputs": [],
   "source": [
    "user_prediction1 = predict_UB2(test_data_matrix, user_similarity, type='user')"
   ]
  },
  {
   "cell_type": "code",
   "execution_count": 106,
   "metadata": {
    "collapsed": false
   },
   "outputs": [
    {
     "name": "stdout",
     "output_type": "stream",
     "text": [
      "User-based CF RMSE: 3.34404139736\n"
     ]
    }
   ],
   "source": [
    "print 'User-based CF RMSE: ' + str(rmse(user_prediction1, test_data_matrix))"
   ]
  },
  {
   "cell_type": "markdown",
   "metadata": {},
   "source": [
    "The above RMSE is a bit better.  Still the function is doing somethign a bit odd with the 'ratings_diff' variable in that ratings that are 'zero' are being adjusted, even though these aren't really ratings at all."
   ]
  },
  {
   "cell_type": "code",
   "execution_count": 133,
   "metadata": {
    "collapsed": true
   },
   "outputs": [],
   "source": [
    "def normalizeForUserRatings (ratings, mean_user_rating):\n",
    "    globalAvg = np.mean(mean_user_rating)\n",
    "    return ratings*(globalAvg/mean_user_rating)[:,np.newaxis]        "
   ]
  },
  {
   "cell_type": "code",
   "execution_count": 146,
   "metadata": {
    "collapsed": true
   },
   "outputs": [],
   "source": [
    "def predict_UB3(ratings, similarity, type='user'):\n",
    "    '''Normalizes user ratings.  It normalizes by summing the similiarities for each user.  '''\n",
    "    if type == 'user':\n",
    "        mean_user_rating = getMeanUserRating(ratings)  # array with mean for each user\n",
    "        ratings_norm = normalizeForUserRatings (ratings, mean_user_rating) \n",
    "        pred = similarity.dot(ratings_norm) / normalize1(similarity).T\n",
    "    elif type == 'item':\n",
    "        pass   \n",
    "    return pred"
   ]
  },
  {
   "cell_type": "code",
   "execution_count": 147,
   "metadata": {
    "collapsed": false
   },
   "outputs": [
    {
     "name": "stdout",
     "output_type": "stream",
     "text": [
      "User-based CF RMSE: 3.78615352986\n"
     ]
    }
   ],
   "source": [
    "user_prediction3 = predict_UB3(test_data_matrix, user_similarity, type='user')\n",
    "print 'User-based CF RMSE: ' + str(rmse(user_prediction3, test_data_matrix))"
   ]
  },
  {
   "cell_type": "markdown",
   "metadata": {},
   "source": [
    "The problem with the above, is it normalizes the users ratings, but then it doesn't 'add back in' the difference.  However, as shown below, adding the differing back in does not help much..."
   ]
  },
  {
   "cell_type": "code",
   "execution_count": 140,
   "metadata": {
    "collapsed": true
   },
   "outputs": [],
   "source": [
    "def DenormalizeForUserRatings (pred, mean_user_rating):\n",
    "    globalAvg = np.mean(mean_user_rating)\n",
    "    return pred*(mean_user_rating/globalAvg)[:,np.newaxis]   "
   ]
  },
  {
   "cell_type": "code",
   "execution_count": 189,
   "metadata": {
    "collapsed": true
   },
   "outputs": [],
   "source": [
    "def predict_UB4(ratings, similarity, type='user'):\n",
    "    '''Normalizes user ratings, and then adds the values back in.  It normalizes by summing the similiarities for each user. '''\n",
    "    if type == 'user':\n",
    "        mean_user_rating = getMeanUserRating(ratings)  # array with mean for each user\n",
    "        ratings_norm = normalizeForUserRatings (ratings, mean_user_rating) \n",
    "        pred = similarity.dot(ratings_norm) / normalize1(similarity).T\n",
    "    elif type == 'item':\n",
    "        pass   \n",
    "    return DenormalizeForUserRatings(pred, mean_user_rating)"
   ]
  },
  {
   "cell_type": "code",
   "execution_count": 190,
   "metadata": {
    "collapsed": false
   },
   "outputs": [
    {
     "name": "stdout",
     "output_type": "stream",
     "text": [
      "User-based CF RMSE: 3.72838477679\n"
     ]
    }
   ],
   "source": [
    "user_prediction4 = predict_UB4(test_data_matrix, user_similarity, type='user')\n",
    "print 'User-based CF RMSE: ' + str(rmse(user_prediction4, test_data_matrix))"
   ]
  },
  {
   "cell_type": "markdown",
   "metadata": {},
   "source": [
    "I'm not seeing much improvment.  As a test I try without any normalizing...which looks very bad..and then with normalizing but not accounting for user tendencies, which give ~3.8 again.  Note that for content based, no normalizing gave a good result with a RMSE of just ~1-2."
   ]
  },
  {
   "cell_type": "code",
   "execution_count": 195,
   "metadata": {
    "collapsed": true
   },
   "outputs": [],
   "source": [
    "def predict_UB5(ratings, similarity, type='user'):\n",
    "    '''no normalization for ratings '''\n",
    "    if type == 'user':\n",
    "        mean_user_rating = getMeanUserRating(ratings)  # array with mean for each user\n",
    "        ratings_norm = normalizeForUserRatings (ratings, mean_user_rating) \n",
    "        pred = similarity.dot(ratings_norm)\n",
    "    elif type == 'item':\n",
    "        pass   \n",
    "    return pred"
   ]
  },
  {
   "cell_type": "code",
   "execution_count": 196,
   "metadata": {
    "collapsed": false
   },
   "outputs": [
    {
     "name": "stdout",
     "output_type": "stream",
     "text": [
      "User-based CF RMSE: 5.52816867245\n"
     ]
    }
   ],
   "source": [
    "user_prediction5 = predict_UB5(test_data_matrix, user_similarity, type='user')\n",
    "print 'User-based CF RMSE: ' + str(rmse(user_prediction5, test_data_matrix))"
   ]
  },
  {
   "cell_type": "code",
   "execution_count": 193,
   "metadata": {
    "collapsed": true
   },
   "outputs": [],
   "source": [
    "def predict_UB6(ratings, similarity, type='user'):\n",
    "    '''another version of no normalization'''\n",
    "    if type == 'user':\n",
    "        pred = similarity.dot(ratings) \n",
    "    elif type == 'item':\n",
    "        pass   \n",
    "    return pred"
   ]
  },
  {
   "cell_type": "code",
   "execution_count": 194,
   "metadata": {
    "collapsed": false
   },
   "outputs": [
    {
     "name": "stdout",
     "output_type": "stream",
     "text": [
      "User-based CF RMSE: 5.03722862297\n"
     ]
    }
   ],
   "source": [
    "user_prediction6 = predict_UB6(test_data_matrix, user_similarity, type='user')\n",
    "print 'User-based CF RMSE: ' + str(rmse(user_prediction6, test_data_matrix))"
   ]
  },
  {
   "cell_type": "markdown",
   "metadata": {},
   "source": [
    "I'm not making much progess in reducing the RMSE.  Lets take a look at the normalization functions. The first two I used for the item based CF filters.  The last function didn't work, so I try to fix as shown in the next cell.\n",
    "\n",
    "def normalize1(similarity):\n",
    "    '''sum similarities for each row'''\n",
    "    n = np.array([np.abs(similarity).sum(axis=1)]) \n",
    "    for x in range(0, len(n[0])):\n",
    "        if n[0][x] < 1:\n",
    "            n[0][x] = 1         \n",
    "    return n\n",
    "    \n",
    "    \n",
    "def getNormMatrix(similarity, ratings):\n",
    "    l1 = np.zeros((ratings.shape[0], ratings.shape[1]))\n",
    "    for c in range (0, similarity.shape[0]):\n",
    "        for r in range (0, ratings.shape[0]):\n",
    "            new = similarity[c]*ratings[r]\n",
    "            i = np.nonzero(new)\n",
    "            nzero = np.sum(similarity[c][i])\n",
    "            if nzero == 0:\n",
    "                normfactor = 1\n",
    "            else:\n",
    "                normfactor = 1.0/nzero\n",
    "            l1[r,c] = normfactor\n",
    "    return l1\n",
    "    \n",
    "    \n",
    "def getNormMatrixUB(similarity, ratings):\n",
    "    l1 = np.zeros((ratings.shape[0], ratings.shape[1]))\n",
    "    for c in range (0, ratings.shape[0]):\n",
    "        for r in range (0, similarity.shape[0]):\n",
    "            new = ratings[c]*similarity[r]\n",
    "            i = np.nonzero(new)\n",
    "            nzero = np.sum(similarity[c][i])\n",
    "            if nzero == 0:\n",
    "                normfactor = 1\n",
    "            else:\n",
    "                normfactor = 1.0/nzero\n",
    "            l1[r,c] = normfactor\n",
    "    return l1\n",
    "    \n",
    "       \n",
    "        "
   ]
  },
  {
   "cell_type": "code",
   "execution_count": 201,
   "metadata": {
    "collapsed": true
   },
   "outputs": [],
   "source": [
    "def getNormMatrixUB2(similarity, ratings):\n",
    "    l1 = np.zeros((ratings.shape[0], ratings.shape[1]))\n",
    "    for r in range (0, ratings.shape[0]):\n",
    "        for c in range (0, ratings.shape[1]):\n",
    "            new = similarity[r]*ratings[:,c]\n",
    "            i = np.nonzero(new)\n",
    "            nzero = np.sum(similarity[r][i])\n",
    "            if nzero == 0:\n",
    "                normfactor = 1\n",
    "            else:\n",
    "                normfactor = 1.0/nzero\n",
    "            l1[r,c] = normfactor\n",
    "    return l1"
   ]
  },
  {
   "cell_type": "code",
   "execution_count": 204,
   "metadata": {
    "collapsed": true
   },
   "outputs": [],
   "source": [
    "\n",
    "def predict_UB7(ratings, similarity, type='user'):\n",
    "    '''orginal predict fuction for the UB CF as taken from the online source.  As you can see, it takes a mean user\n",
    "    rating, but does not exclude zero in the average.  And it normalizes with the sum of similarities. '''\n",
    "    if type == 'user':\n",
    "        pred = similarity.dot(ratings)\n",
    "        normMatrix = getNormMatrixUB2(similarity, ratings)\n",
    "        pred = normalize2(pred, normMatrix)\n",
    "    elif type == 'item':\n",
    "        pass   \n",
    "    return DenormalizeForUserRatings(pred, mean_user_rating)        \n"
   ]
  },
  {
   "cell_type": "markdown",
   "metadata": {},
   "source": [
    "Finally!  Some real progress.  I still need to clean up the function, and decide if I'm also normalizing for user ratings."
   ]
  },
  {
   "cell_type": "code",
   "execution_count": 205,
   "metadata": {
    "collapsed": false
   },
   "outputs": [
    {
     "name": "stdout",
     "output_type": "stream",
     "text": [
      "User-based CF RMSE: 2.52741278562\n"
     ]
    }
   ],
   "source": [
    "user_prediction7 = predict_UB7(test_data_matrix, user_similarity, type='user')\n",
    "print 'User-based CF RMSE: ' + str(rmse(user_prediction7, test_data_matrix))"
   ]
  },
  {
   "cell_type": "code",
   "execution_count": 113,
   "metadata": {
    "collapsed": false
   },
   "outputs": [],
   "source": [
    "mean_user_rating = getMeanUserRating(test_data_matrix)  # array with mean for each user\n",
    "ratings_diff = (test_data_matrix - mean_user_rating[:, np.newaxis]) \n",
    "pred = mean_user_rating[:, np.newaxis] + user_similarity.dot(ratings_diff) / normalize1(user_similarity).T"
   ]
  },
  {
   "cell_type": "markdown",
   "metadata": {},
   "source": [
    "Below I normalize for user ratings and then I don't account for this at all.  Will see what does better.  Ah! the full 'normalization' works great.  RMSE of 0.8 now."
   ]
  },
  {
   "cell_type": "code",
   "execution_count": 207,
   "metadata": {
    "collapsed": true
   },
   "outputs": [],
   "source": [
    "def predict_UB8(ratings, similarity, type='user'):\n",
    "    '''This normalizes for user ratings, and adds it back in at the end.  It also normalizes for similarities.\n",
    "    basically, this function accounts for everything.'''\n",
    "    if type == 'user':\n",
    "        mean_user_rating = getMeanUserRating(ratings)  # array with mean for each user\n",
    "        ratings_norm = normalizeForUserRatings(ratings, mean_user_rating) \n",
    "        pred = similarity.dot(ratings_norm)\n",
    "        normMatrix = getNormMatrixUB2(similarity, ratings_norm)\n",
    "        pred = normalize2(pred, normMatrix)\n",
    "    elif type == 'item':\n",
    "        pass   \n",
    "    return DenormalizeForUserRatings(pred, mean_user_rating)        \n"
   ]
  },
  {
   "cell_type": "code",
   "execution_count": 208,
   "metadata": {
    "collapsed": false
   },
   "outputs": [
    {
     "name": "stdout",
     "output_type": "stream",
     "text": [
      "User-based CF RMSE: 0.801360835142\n"
     ]
    }
   ],
   "source": [
    "user_prediction8 = predict_UB8(test_data_matrix, user_similarity, type='user')\n",
    "print 'User-based CF RMSE: ' + str(rmse(user_prediction8, test_data_matrix))"
   ]
  },
  {
   "cell_type": "code",
   "execution_count": 209,
   "metadata": {
    "collapsed": true
   },
   "outputs": [],
   "source": [
    "def predict_UB9(ratings, similarity, type='user'):\n",
    "    '''This function normalizes in the denominator, but doesn't normalize for ratings trends for users. '''\n",
    "    if type == 'user':\n",
    "        pred = similarity.dot(ratings)\n",
    "        normMatrix = getNormMatrixUB2(similarity, ratings)\n",
    "        pred = normalize2(pred, normMatrix)\n",
    "    elif type == 'item':\n",
    "        pass   \n",
    "    return pred "
   ]
  },
  {
   "cell_type": "code",
   "execution_count": 210,
   "metadata": {
    "collapsed": false
   },
   "outputs": [
    {
     "name": "stdout",
     "output_type": "stream",
     "text": [
      "User-based CF RMSE: 1.00934523334\n"
     ]
    }
   ],
   "source": [
    "user_prediction9 = predict_UB9(test_data_matrix, user_similarity, type='user')\n",
    "print 'User-based CF RMSE: ' + str(rmse(user_prediction9, test_data_matrix))"
   ]
  },
  {
   "cell_type": "code",
   "execution_count": null,
   "metadata": {
    "collapsed": true
   },
   "outputs": [],
   "source": []
  }
 ],
 "metadata": {
  "anaconda-cloud": {},
  "kernelspec": {
   "display_name": "Python [Root]",
   "language": "python",
   "name": "Python [Root]"
  },
  "language_info": {
   "codemirror_mode": {
    "name": "ipython",
    "version": 2
   },
   "file_extension": ".py",
   "mimetype": "text/x-python",
   "name": "python",
   "nbconvert_exporter": "python",
   "pygments_lexer": "ipython2",
   "version": "2.7.12"
  }
 },
 "nbformat": 4,
 "nbformat_minor": 0
}
