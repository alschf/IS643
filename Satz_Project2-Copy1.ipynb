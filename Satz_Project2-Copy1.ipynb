{
 "cells": [
  {
   "cell_type": "markdown",
   "metadata": {},
   "source": [
    "# Recommender system project:\n",
    "Code based on a tutorial by Agnes Johannsdottir using MovieLens data set.  \n",
    "Here I use the million song data set from Kaggle.\n",
    "\n",
    "\n"
   ]
  },
  {
   "cell_type": "markdown",
   "metadata": {},
   "source": [
    "# P1: Item Similarity"
   ]
  },
  {
   "cell_type": "code",
   "execution_count": 198,
   "metadata": {
    "collapsed": false
   },
   "outputs": [
    {
     "name": "stderr",
     "output_type": "stream",
     "text": [
      "/Users/alexandersatz/anaconda/lib/python2.7/site-packages/matplotlib/font_manager.py:273: UserWarning: Matplotlib is building the font cache using fc-list. This may take a moment.\n",
      "  warnings.warn('Matplotlib is building the font cache using fc-list. This may take a moment.')\n"
     ]
    }
   ],
   "source": [
    "%matplotlib inline"
   ]
  },
  {
   "cell_type": "code",
   "execution_count": 200,
   "metadata": {
    "collapsed": true
   },
   "outputs": [],
   "source": [
    "import matplotlib.pyplot as plt"
   ]
  },
  {
   "cell_type": "code",
   "execution_count": 53,
   "metadata": {
    "collapsed": false
   },
   "outputs": [],
   "source": [
    "import numpy as np\n",
    "import pandas as pd\n",
    "from collections import defaultdict\n",
    "from sklearn.metrics.pairwise import pairwise_distances\n",
    "from sklearn.metrics import mean_squared_error\n",
    "from math import sqrt\n",
    "import scipy.sparse as sp\n",
    "from scipy.sparse.linalg import svds\n",
    "from sklearn import cross_validation as cv"
   ]
  },
  {
   "cell_type": "code",
   "execution_count": 54,
   "metadata": {
    "collapsed": false
   },
   "outputs": [],
   "source": [
    "def countNonZeroEntries(matrix):\n",
    "    m = np.zeros(matrix.shape[0])\n",
    "    for x in range(0, matrix.shape[0]):\n",
    "        m[x] = len(matrix[x][matrix[x]!=0])\n",
    "    return m"
   ]
  },
  {
   "cell_type": "code",
   "execution_count": 55,
   "metadata": {
    "collapsed": true
   },
   "outputs": [],
   "source": [
    "def normalizeRowsToOne(matrix):\n",
    "    m = np.zeros(matrix.shape[0])\n",
    "    for x in range(0, matrix.shape[0]):\n",
    "        m[x] = len(matrix[x][matrix[x]!=0])\n",
    "    return m"
   ]
  },
  {
   "cell_type": "code",
   "execution_count": 56,
   "metadata": {
    "collapsed": true
   },
   "outputs": [],
   "source": [
    "def replaceNANwithZero(matrix):\n",
    "    m = np.zeros((matrix.shape[0], matrix.shape[1]))\n",
    "    for x in range(0, matrix.shape[0]):\n",
    "        matrix[x] = np.nan_to_num(matrix[x])\n",
    "    return m\n",
    "    "
   ]
  },
  {
   "cell_type": "code",
   "execution_count": 57,
   "metadata": {
    "collapsed": true
   },
   "outputs": [],
   "source": [
    "def normalize1(similarity):\n",
    "    '''sum similarities for each row'''\n",
    "    n = np.array([np.abs(similarity).sum(axis=1)]) \n",
    "    for x in range(0, len(n[0])):\n",
    "        if n[0][x] < 1:\n",
    "            n[0][x] = 1         \n",
    "    return n"
   ]
  },
  {
   "cell_type": "code",
   "execution_count": 58,
   "metadata": {
    "collapsed": true
   },
   "outputs": [],
   "source": [
    "def normalize(pred, countratingsperrow):\n",
    "    '''by count of non-zero ratings per row'''\n",
    "    for row in range(0, pred.shape[0]):\n",
    "        for col in range(0, pred.shape[1]):\n",
    "            if pred[row,col] != 0:\n",
    "                pred[row,col] = pred[row,col]/countratingsperrow[row]\n",
    "    return pred"
   ]
  },
  {
   "cell_type": "code",
   "execution_count": 59,
   "metadata": {
    "collapsed": true
   },
   "outputs": [],
   "source": [
    "def normalize2(pred, normMatrix):\n",
    "    '''by norm sim value to 1; only using cases where dot product is non-zero'''\n",
    "    for row in range(0, pred.shape[0]):\n",
    "        for col in range(0, pred.shape[1]):\n",
    "            if pred[row,col] != 0:\n",
    "                pred[row,col] = pred[row,col]*normMatrix[row,col]\n",
    "    return pred"
   ]
  },
  {
   "cell_type": "code",
   "execution_count": 60,
   "metadata": {
    "collapsed": true
   },
   "outputs": [],
   "source": [
    "def getNormMatrix(similarity, ratings):\n",
    "    l1 = np.zeros((ratings.shape[0], ratings.shape[1]))\n",
    "    for c in range (0, similarity.shape[0]):\n",
    "        for r in range (0, ratings.shape[0]):\n",
    "            new = similarity[c]*ratings[r]\n",
    "            i = np.nonzero(new)\n",
    "            nzero = np.sum(similarity[c][i])\n",
    "            if nzero == 0:\n",
    "                normfactor = 1\n",
    "            else:\n",
    "                normfactor = 1.0/nzero\n",
    "            l1[r,c] = normfactor\n",
    "    return l1\n",
    "        "
   ]
  },
  {
   "cell_type": "code",
   "execution_count": 61,
   "metadata": {
    "collapsed": true
   },
   "outputs": [],
   "source": [
    "def convertToMinOne(m):\n",
    "    for r in range(0, m.shape[0]):\n",
    "        for c in range(0,m.shape[1]):\n",
    "            if m[r][c] < 1:\n",
    "                m[r][c] = 1\n",
    "    return m\n",
    "              "
   ]
  },
  {
   "cell_type": "code",
   "execution_count": 62,
   "metadata": {
    "collapsed": true
   },
   "outputs": [],
   "source": [
    "def transferKnownvalues(p,test):\n",
    "    for r in range(0, test.shape[0]):\n",
    "        for c in range(0,test.shape[1]):\n",
    "            if test[r][c] != 0:\n",
    "                p[r][c] = test[r][c]\n",
    "    return p\n",
    "    "
   ]
  },
  {
   "cell_type": "markdown",
   "metadata": {},
   "source": [
    "Below are 4 different prediction methods, each with a different way to normalize."
   ]
  },
  {
   "cell_type": "code",
   "execution_count": 63,
   "metadata": {
    "collapsed": true
   },
   "outputs": [],
   "source": [
    "#predict(train_data_matrix, user_similarity, type='user')\n",
    "def predict(ratings, similarity, type='user'):\n",
    "    '''orginal predict fuction, normalize by summing all similiarity numbers'''\n",
    "    if type == 'user':\n",
    "        pass\n",
    "    elif type == 'item':\n",
    "        pred = ratings.dot(similarity) / normalize1(similarity)    \n",
    "    return pred"
   ]
  },
  {
   "cell_type": "code",
   "execution_count": 64,
   "metadata": {
    "collapsed": true
   },
   "outputs": [],
   "source": [
    "def predict2(ratings, similarity, type='user'):\n",
    "    '''No normalization'''\n",
    "    if type == 'user':\n",
    "        pass\n",
    "    elif type == 'item':\n",
    "        countratingsperrow = countNonZeroEntries(ratings)\n",
    "        pred = ratings.dot(similarity)  \n",
    "    return pred"
   ]
  },
  {
   "cell_type": "code",
   "execution_count": 65,
   "metadata": {
    "collapsed": true
   },
   "outputs": [],
   "source": [
    "def predict3(ratings, similarity, type='user'):\n",
    "    '''normalized, by count of nonzero ratings'''\n",
    "    if type == 'user':\n",
    "        pass\n",
    "    elif type == 'item':\n",
    "        countratingsperrow = countNonZeroEntries(ratings)\n",
    "        pred = ratings.dot(similarity)  \n",
    "        pred = normalize(pred, countratingsperrow)\n",
    "    return pred"
   ]
  },
  {
   "cell_type": "code",
   "execution_count": 66,
   "metadata": {
    "collapsed": true
   },
   "outputs": [],
   "source": [
    "def predict4(ratings, similarity, type='user'):\n",
    "    '''normalized by sum of similarity values associated with non-zero ratings and normalize to 1'''\n",
    "    if type == 'user':\n",
    "        pass\n",
    "    elif type == 'item':\n",
    "        pred = ratings.dot(similarity) \n",
    "        normMatrix = getNormMatrix(similarity, ratings)\n",
    "        pred = normalize2(pred, normMatrix)\n",
    "    return pred"
   ]
  },
  {
   "cell_type": "code",
   "execution_count": 67,
   "metadata": {
    "collapsed": true
   },
   "outputs": [],
   "source": [
    "def rmse(p, test):\n",
    "    '''this determines the rmse for the predicted values versus the test values.  It only considers \n",
    "    real ratings in the text matrix and ignores -non-ratings- ie zeros'''\n",
    "    errors = []\n",
    "    for r in range(0, test.shape[0]):\n",
    "        for c in range(0,test.shape[1]):\n",
    "            if test[r][c] != 0:\n",
    "                errors.append(float(test[r,c])-float(p[r,c]))\n",
    "    errors1 =  np.asarray(errors)\n",
    "    errors2 = np.mean(errors1*errors1)\n",
    "    return sqrt(errors2)"
   ]
  },
  {
   "cell_type": "markdown",
   "metadata": {},
   "source": [
    "Below I read in the data"
   ]
  },
  {
   "cell_type": "code",
   "execution_count": 68,
   "metadata": {
    "collapsed": true
   },
   "outputs": [],
   "source": [
    "data = []\n",
    "with open(\"/Users/alexandersatz/Documents/Cuny/IS643_recommenderSys/project1/kaggle_visible_evaluation_triplets.txt\", \"r\") as f:\n",
    "    for line in f:\n",
    "        line = line[:-1]\n",
    "        line =line.split('\\t')\n",
    "        data.append(line)"
   ]
  },
  {
   "cell_type": "code",
   "execution_count": 69,
   "metadata": {
    "collapsed": true
   },
   "outputs": [],
   "source": [
    "de_item = defaultdict(int)\n",
    "for row in data:\n",
    "    de_item[row[1]] += 1\n",
    "    "
   ]
  },
  {
   "cell_type": "code",
   "execution_count": 72,
   "metadata": {
    "collapsed": true
   },
   "outputs": [],
   "source": [
    "#Here I'm removing items with few reviews.\n",
    "d_itemGTE5 = {}\n",
    "for key, value in de_item.iteritems():\n",
    "    if value > 50:\n",
    "        d_itemGTE5[key] = 1"
   ]
  },
  {
   "cell_type": "code",
   "execution_count": 73,
   "metadata": {
    "collapsed": false
   },
   "outputs": [
    {
     "name": "stdout",
     "output_type": "stream",
     "text": [
      "4677\n",
      "163206\n"
     ]
    }
   ],
   "source": [
    "print len(d_itemGTE5)\n",
    "print len(de_item)"
   ]
  },
  {
   "cell_type": "code",
   "execution_count": 74,
   "metadata": {
    "collapsed": true
   },
   "outputs": [],
   "source": [
    "shortdata = []\n",
    "for x in data:\n",
    "    if x[1] in d_itemGTE5:\n",
    "        shortdata.append(x)"
   ]
  },
  {
   "cell_type": "code",
   "execution_count": 75,
   "metadata": {
    "collapsed": true
   },
   "outputs": [],
   "source": [
    "de_user = defaultdict(int)\n",
    "for row in shortdata:\n",
    "    de_user[row[0]] += 1\n",
    "    "
   ]
  },
  {
   "cell_type": "code",
   "execution_count": 76,
   "metadata": {
    "collapsed": true
   },
   "outputs": [],
   "source": [
    "#Here I'm removing users with few reviews.\n",
    "d_usersGTE10 = {}\n",
    "for key, value in de_user.iteritems():\n",
    "    if value > 20:\n",
    "        d_usersGTE10[key] = 1"
   ]
  },
  {
   "cell_type": "code",
   "execution_count": 77,
   "metadata": {
    "collapsed": true
   },
   "outputs": [],
   "source": [
    "shortdata2 = []\n",
    "for x in shortdata:\n",
    "    if x[0] in d_usersGTE10:\n",
    "        shortdata2.append(x)"
   ]
  },
  {
   "cell_type": "code",
   "execution_count": 78,
   "metadata": {
    "collapsed": true
   },
   "outputs": [],
   "source": [
    "shortdata = shortdata2"
   ]
  },
  {
   "cell_type": "code",
   "execution_count": 79,
   "metadata": {
    "collapsed": false
   },
   "outputs": [
    {
     "name": "stdout",
     "output_type": "stream",
     "text": [
      "1450933\n",
      "42443\n"
     ]
    }
   ],
   "source": [
    "## So I've gone from 1.45 million rows of data to ~42,0000\n",
    "print(len(data))\n",
    "print(len(shortdata))"
   ]
  },
  {
   "cell_type": "code",
   "execution_count": 80,
   "metadata": {
    "collapsed": false
   },
   "outputs": [],
   "source": [
    "#data from https://www.kaggle.com/c/msdchallenge/data\n",
    "#the number of times a user listens to a song is tracked\n",
    "\n",
    "#here 'rating' is number of listens to the song.\n",
    "header = ['user_id', 'item_id', 'rating']\n",
    "df = pd.DataFrame(shortdata, columns=header)"
   ]
  },
  {
   "cell_type": "code",
   "execution_count": 81,
   "metadata": {
    "collapsed": false
   },
   "outputs": [],
   "source": [
    "# max listen is now 10, which represents 'liking' a song\n",
    "for index, row in df.iterrows():\n",
    "    if int(row['rating']) > 10:\n",
    "        row['rating'] = 10"
   ]
  },
  {
   "cell_type": "code",
   "execution_count": 82,
   "metadata": {
    "collapsed": true
   },
   "outputs": [],
   "source": [
    "#I need to convert each user_id to an int, and each item_id to an int.\n",
    "arrayusers = df.user_id.unique()\n",
    "arrayitems = df.item_id.unique()\n",
    "d_users, d_items = {}, {}\n",
    "c = 0\n",
    "for x in arrayusers:\n",
    "    c +=1\n",
    "    d_users[x] = c \n",
    "c = 0\n",
    "for x in arrayitems:\n",
    "    c +=1\n",
    "    d_items[x] = c \n"
   ]
  },
  {
   "cell_type": "code",
   "execution_count": 83,
   "metadata": {
    "collapsed": false
   },
   "outputs": [],
   "source": [
    "for index, row in df.iterrows():\n",
    "    df.set_value(index, 'user_id', d_users[row['user_id']])\n",
    "    df.set_value(index, 'item_id', d_items[row['item_id']])"
   ]
  },
  {
   "cell_type": "code",
   "execution_count": 84,
   "metadata": {
    "collapsed": false
   },
   "outputs": [
    {
     "data": {
      "text/html": [
       "<div>\n",
       "<table border=\"1\" class=\"dataframe\">\n",
       "  <thead>\n",
       "    <tr style=\"text-align: right;\">\n",
       "      <th></th>\n",
       "      <th>user_id</th>\n",
       "      <th>item_id</th>\n",
       "      <th>rating</th>\n",
       "    </tr>\n",
       "  </thead>\n",
       "  <tbody>\n",
       "    <tr>\n",
       "      <th>0</th>\n",
       "      <td>1</td>\n",
       "      <td>1</td>\n",
       "      <td>5</td>\n",
       "    </tr>\n",
       "    <tr>\n",
       "      <th>1</th>\n",
       "      <td>1</td>\n",
       "      <td>2</td>\n",
       "      <td>1</td>\n",
       "    </tr>\n",
       "    <tr>\n",
       "      <th>2</th>\n",
       "      <td>1</td>\n",
       "      <td>3</td>\n",
       "      <td>1</td>\n",
       "    </tr>\n",
       "    <tr>\n",
       "      <th>3</th>\n",
       "      <td>1</td>\n",
       "      <td>4</td>\n",
       "      <td>1</td>\n",
       "    </tr>\n",
       "    <tr>\n",
       "      <th>4</th>\n",
       "      <td>1</td>\n",
       "      <td>5</td>\n",
       "      <td>1</td>\n",
       "    </tr>\n",
       "  </tbody>\n",
       "</table>\n",
       "</div>"
      ],
      "text/plain": [
       "  user_id item_id rating\n",
       "0       1       1      5\n",
       "1       1       2      1\n",
       "2       1       3      1\n",
       "3       1       4      1\n",
       "4       1       5      1"
      ]
     },
     "execution_count": 84,
     "metadata": {},
     "output_type": "execute_result"
    }
   ],
   "source": [
    "df.head(5)"
   ]
  },
  {
   "cell_type": "code",
   "execution_count": 85,
   "metadata": {
    "collapsed": false
   },
   "outputs": [
    {
     "name": "stdout",
     "output_type": "stream",
     "text": [
      "Number of users = 1750 | Number of items = 4349\n"
     ]
    }
   ],
   "source": [
    "n_users = df.user_id.unique().shape[0]\n",
    "n_items = df.item_id.unique().shape[0]\n",
    "print 'Number of users = ' + str(n_users) + ' | Number of items = ' + str(n_items)  "
   ]
  },
  {
   "cell_type": "code",
   "execution_count": 119,
   "metadata": {
    "collapsed": true
   },
   "outputs": [],
   "source": [
    "train_data, test_data = cv.train_test_split(df, test_size=0.26)"
   ]
  },
  {
   "cell_type": "markdown",
   "metadata": {},
   "source": [
    "Note that the above data split needs to give equal numbers of users in the train and test set!  Sometimes this doesn't happen and the above split needs to be repeated until it does."
   ]
  },
  {
   "cell_type": "code",
   "execution_count": 219,
   "metadata": {
    "collapsed": false
   },
   "outputs": [
    {
     "name": "stdout",
     "output_type": "stream",
     "text": [
      "1750\n",
      "1750\n"
     ]
    }
   ],
   "source": [
    "#Create two user-item matrices, one for training and another for testing\n",
    "## row number = user_id-1, column number is item_id-1, and value is the rating.\n",
    "## so each row has all ratings for every movie for that user (else a zero)\n",
    "n_users = train_data.user_id.unique().shape[0]\n",
    "train_data_matrix = np.zeros((n_users, n_items))\n",
    "for line in train_data.itertuples():\n",
    "    train_data_matrix[line[1]-1, line[2]-1] = line[3]  \n",
    "    \n",
    "print n_users\n",
    "\n",
    "n_users = test_data.user_id.unique().shape[0]\n",
    "test_data_matrix = np.zeros((n_users, n_items))\n",
    "for line in test_data.itertuples():\n",
    "    test_data_matrix[line[1]-1, line[2]-1] = line[3]\n",
    "    \n",
    "print n_users  ## make sure both matrices have same # users"
   ]
  },
  {
   "cell_type": "code",
   "execution_count": 121,
   "metadata": {
    "collapsed": false
   },
   "outputs": [],
   "source": [
    "item_similarity = pairwise_distances(train_data_matrix.T, metric='cosine')"
   ]
  },
  {
   "cell_type": "code",
   "execution_count": 122,
   "metadata": {
    "collapsed": false
   },
   "outputs": [],
   "source": [
    "## make simliarity matrix have diagonal of 1's not zeros\n",
    "for row in range(0, (item_similarity.shape[0])):\n",
    "    for col in range(0, (item_similarity.shape[1])):\n",
    "        item_similarity[row,col] = 1-item_similarity[row,col]"
   ]
  },
  {
   "cell_type": "code",
   "execution_count": 123,
   "metadata": {
    "collapsed": true
   },
   "outputs": [],
   "source": [
    "item_prediction1 = predict(test_data_matrix, item_similarity, type='item')\n",
    "item_prediction2 = predict2(test_data_matrix, item_similarity, type='item')\n",
    "item_prediction3 = predict3(test_data_matrix, item_similarity, type='item')\n",
    "item_prediction4 = predict4(test_data_matrix, item_similarity, type='item')"
   ]
  },
  {
   "cell_type": "code",
   "execution_count": 124,
   "metadata": {
    "collapsed": false
   },
   "outputs": [
    {
     "name": "stdout",
     "output_type": "stream",
     "text": [
      "Item-based CF RMSE: 3.70528523728\n",
      "Item-based CF RMSE: 1.06056200883\n",
      "Item-based CF RMSE: 3.33726342111\n",
      "Item-based CF RMSE: 0.732113061501\n"
     ]
    }
   ],
   "source": [
    "#Normalize sum of similarities for each row\n",
    "print 'Item-based CF RMSE: ' + str(rmse(item_prediction1, test_data_matrix))\n",
    "#No normalization\n",
    "print 'Item-based CF RMSE: ' + str(rmse(item_prediction2, test_data_matrix))\n",
    "#Count of actual ratings in a column, train_data_matrix\n",
    "print 'Item-based CF RMSE: ' + str(rmse(item_prediction3, test_data_matrix))\n",
    "#Normalize by summing the similarities and normalizing to 1, but only for those corresponding to a rating \n",
    "#in the train_data_matrix (rows are items, columns are users)\n",
    "print 'Item-based CF RMSE: ' + str(rmse(item_prediction4, test_data_matrix))"
   ]
  },
  {
   "cell_type": "code",
   "execution_count": 125,
   "metadata": {
    "collapsed": false
   },
   "outputs": [
    {
     "name": "stdout",
     "output_type": "stream",
     "text": [
      "The sparsity level is 99.4%\n"
     ]
    }
   ],
   "source": [
    "sparsity=round(1.0-len(df)/float(n_users*n_items),3)\n",
    "print 'The sparsity level is ' +  str(sparsity*100) + '%'"
   ]
  },
  {
   "cell_type": "markdown",
   "metadata": {},
   "source": [
    "Below we look at the RMSE if we just assumed the 'average' rating for each item"
   ]
  },
  {
   "cell_type": "code",
   "execution_count": 126,
   "metadata": {
    "collapsed": false
   },
   "outputs": [
    {
     "name": "stdout",
     "output_type": "stream",
     "text": [
      "2.87531714389\n"
     ]
    }
   ],
   "source": [
    "## for we determine the average of all ratings in the matrix, ignoring zeros since we consider them to be 'non-ratings'\n",
    "s = np.sum(test_data_matrix)\n",
    "c = len(np.nonzero(test_data_matrix)[0])\n",
    "m = s/float(c)\n",
    "## the average rating in the matrix\n",
    "print m"
   ]
  },
  {
   "cell_type": "code",
   "execution_count": 127,
   "metadata": {
    "collapsed": false
   },
   "outputs": [
    {
     "name": "stdout",
     "output_type": "stream",
     "text": [
      "Item-based CF RMSE: 2.78169136487\n"
     ]
    }
   ],
   "source": [
    "#create a matrix of the average\n",
    "matrix_avg = np.zeros((test_data_matrix.shape[0], test_data_matrix.shape[1]))\n",
    "for row in range(0, matrix_avg.shape[0]):\n",
    "        for col in range(0, matrix_avg.shape[1]):\n",
    "            matrix_avg[row][col] = m\n",
    "print 'Item-based CF RMSE: ' + str(rmse(matrix_avg, test_data_matrix))\n",
    "## the RMSE if all predictions were the average in the matrix"
   ]
  },
  {
   "cell_type": "code",
   "execution_count": 202,
   "metadata": {
    "collapsed": false
   },
   "outputs": [],
   "source": [
    "i = np.nonzero(test_data_matrix)\n",
    "t = test_data_matrix[i].flatten()\n",
    "p = item_prediction4[i].flatten()\n"
   ]
  },
  {
   "cell_type": "markdown",
   "metadata": {},
   "source": [
    "The Plot below shows that the predicted values track well with the 'test' values.  There might be a bit of an issue with some data points showing up at the baseline though; I think this may be due to matrix sparsity, cases when there is no overlap between ratings and similarity values."
   ]
  },
  {
   "cell_type": "code",
   "execution_count": 205,
   "metadata": {
    "collapsed": false
   },
   "outputs": [
    {
     "data": {
      "image/png": "[encoded data removed]",
      "text/plain": [
       "<matplotlib.figure.Figure at 0x147bc26d0>"
      ]
     },
     "metadata": {},
     "output_type": "display_data"
    }
   ],
   "source": [
    "plt.scatter(t, p)\n",
    "plt.xlabel('actual values')\n",
    "plt.ylabel('predicted values')\n",
    "plt.show()"
   ]
  },
  {
   "cell_type": "markdown",
   "metadata": {},
   "source": [
    "# P2:  Below I try to set up on a normalized User-based CF."
   ]
  },
  {
   "cell_type": "code",
   "execution_count": 128,
   "metadata": {
    "collapsed": true
   },
   "outputs": [],
   "source": [
    "user_similarity = pairwise_distances(train_data_matrix, metric='cosine')"
   ]
  },
  {
   "cell_type": "code",
   "execution_count": 129,
   "metadata": {
    "collapsed": true
   },
   "outputs": [],
   "source": [
    "## make simliarity matrix have diagonal of 1's not zeros\n",
    "for row in range(0, (user_similarity.shape[0])):\n",
    "    for col in range(0, (user_similarity.shape[1])):\n",
    "        user_similarity[row,col] = 1-user_similarity[row,col]"
   ]
  },
  {
   "cell_type": "code",
   "execution_count": 169,
   "metadata": {
    "collapsed": false
   },
   "outputs": [],
   "source": [
    "#predict(train_data_matrix, user_similarity, type='user')\n",
    "def predict_UB1(ratings, similarity, type='user'):\n",
    "    '''orginal predict fuction for the UB CF as taken from the online source.  As you can see, it takes a mean user\n",
    "    rating, but does not exclude zero in the average.  And it normalizes with the sum of similarities. '''\n",
    "    if type == 'user':\n",
    "        mean_user_rating = ratings.mean(axis=1)  # array with mean for each user\n",
    "        ratings_diff = (ratings - mean_user_rating[:, np.newaxis]) \n",
    "        pred = mean_user_rating[:, np.newaxis] + similarity.dot(ratings_diff) / normalize1(similarity).T\n",
    "    elif type == 'item':\n",
    "        pass   \n",
    "    return pred"
   ]
  },
  {
   "cell_type": "code",
   "execution_count": 165,
   "metadata": {
    "collapsed": true
   },
   "outputs": [],
   "source": [
    "def getMeanUserRating(ratings):\n",
    "    l1 = []\n",
    "    for x in range(0, ratings.shape[0]):\n",
    "        l1.append(np.mean(ratings[x][np.nonzero(ratings[x])]))\n",
    "    return np.asarray(l1)\n",
    "        "
   ]
  },
  {
   "cell_type": "code",
   "execution_count": 187,
   "metadata": {
    "collapsed": false
   },
   "outputs": [],
   "source": [
    "def getNormMatrixUB(similarity, ratings):\n",
    "    l1 = np.zeros((ratings.shape[0], ratings.shape[1]))\n",
    "    for c in range (0, ratings.shape[0]):\n",
    "        for r in range (0, similarity.shape[0]):\n",
    "            new = ratings[:,c]*similarity[r]\n",
    "            i = np.nonzero(new)\n",
    "            nzero = np.sum(similarity[c][i])\n",
    "            if nzero == 0:\n",
    "                normfactor = 1\n",
    "            else:\n",
    "                normfactor = 1.0/nzero\n",
    "            l1[r,c] = normfactor\n",
    "    return l1\n",
    "        "
   ]
  },
  {
   "cell_type": "code",
   "execution_count": 220,
   "metadata": {
    "collapsed": false
   },
   "outputs": [],
   "source": [
    "user_prediction1 = predict_UB1(test_data_matrix, user_similarity, type='user')"
   ]
  },
  {
   "cell_type": "markdown",
   "metadata": {},
   "source": [
    "As you can see, this user based collaborative filtering still needs some help.  Mainly I think it does the normalization incorrectly, and needs a better method for dealing with some users ranking all high or low."
   ]
  },
  {
   "cell_type": "code",
   "execution_count": 221,
   "metadata": {
    "collapsed": false
   },
   "outputs": [
    {
     "name": "stdout",
     "output_type": "stream",
     "text": [
      "User-based CF RMSE: 3.75357858839\n"
     ]
    }
   ],
   "source": [
    "print 'User-based CF RMSE: ' + str(rmse(user_prediction1, test_data_matrix))"
   ]
  }
 ],
 "metadata": {
  "anaconda-cloud": {},
  "kernelspec": {
   "display_name": "Python [Root]",
   "language": "python",
   "name": "Python [Root]"
  },
  "language_info": {
   "codemirror_mode": {
    "name": "ipython",
    "version": 2
   },
   "file_extension": ".py",
   "mimetype": "text/x-python",
   "name": "python",
   "nbconvert_exporter": "python",
   "pygments_lexer": "ipython2",
   "version": "2.7.12"
  }
 },
 "nbformat": 4,
 "nbformat_minor": 0
}
